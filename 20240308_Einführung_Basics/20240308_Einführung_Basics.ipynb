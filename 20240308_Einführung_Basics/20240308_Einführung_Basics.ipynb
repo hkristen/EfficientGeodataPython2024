{
 "cells": [
  {
   "cell_type": "markdown",
   "metadata": {},
   "source": [
    " # `Efficient Geodatamanipulation with Python (EGM 2024)`"
   ]
  },
  {
   "cell_type": "markdown",
   "metadata": {},
   "source": [
    "## Agenda\n",
    "* Wer sind wir?\n",
    "\n",
    "* Organisatorisches\n",
    "\n",
    "* Python\n",
    "    * Von der Idee zum Programm\n",
    "    \n",
    "    * Programmdesign\n",
    "\n",
    "    * Flowchart\n",
    "\n",
    "    * Pseudocode\n",
    "\n",
    "    * Integrated Development Environment (IDE)\n",
    "\n",
    "    * VSCode"
   ]
  },
  {
   "cell_type": "markdown",
   "metadata": {},
   "source": [
    "## Covid 19 Updates\n",
    " * In Hinblick auf einen möglichst sicheren Semesterstart ersuchen wir alle zudem, ihren Gesundheitszustand zu beobachten und bei Auftreten von Covid-Symptomen verantwortungsvoll zu agieren.\n",
    "\n",
    "* Positiv getestete Studierende nehmen nicht an Lehrveranstaltungen und Prüfungen in Präsenz teil. Im Bedarfsfall bekommen sie ein Ersatz-Angebot, um Lehrveranstaltungen abschließen zu können. Positiv getestete Lehrende dürfen ausschließlich online unterrichten.\n",
    "\n",
    "* Das für die vergangenen Semester definierte Ampelsystem bleibt in Kraft (aktueller Status „Grün“). Steigt das Risiko für Ansteckungen und schwere Verläufe, wird die Ampel auf die entsprechend nötige Farbe umgeschaltet bzw. werden zusätzliche Maßnahmen kommuniziert.\n",
    "\n",
    "Stand: Freitag, 23. Feber 2024"
   ]
  },
  {
   "cell_type": "markdown",
   "metadata": {},
   "source": [
    "## Vorstellung\n",
    "\n",
    "* Harald Kristen (h.kristen@uni-graz.at)\n",
    "    * USW Geographie MSc BSc\n",
    "    * Derzeit in Bildungskarenz\n",
    "\n",
    "* Matthias Wecht (matthias.wecht@uni-graz.at)\n",
    "    * Geographie BSc\n",
    "    * Geospatial Technologies MSc\n",
    "    * Geoinformatiker bei Energienetze Steiermark GmbH\n"
   ]
  },
  {
   "cell_type": "markdown",
   "metadata": {
    "slideshow": {
     "slide_type": "slide"
    }
   },
   "source": [
    "## LV-Information\n",
    "\n",
    "![image](\\graphic\\lv_1.JPG)\n",
    "![image](\\graphic\\lv_2.JPG)\n",
    "![image](\\graphic\\lv_3.JPG)\n",
    "![image](\\graphic\\lv_5.JPG)\n",
    "\n",
    "\n",
    "\n"
   ]
  },
  {
   "cell_type": "markdown",
   "metadata": {},
   "source": [
    "## LV-Termine (Vorbehaltlich)\n",
    "\n",
    "![image](\\graphic\\lv_4.JPG)"
   ]
  },
  {
   "cell_type": "markdown",
   "metadata": {},
   "source": [
    "### Einheiten & Inhalte\n",
    "\n",
    "| Datum          | Start | Ende  | IST | SOLL | Thema                                     | Inhalt / Zeitbudget                                                                                                                                                                  |\n",
    "|----------------|-------|-------|-----|------|-------------------------------------------|--------------------------------------------------------------------------------------------------------------------------------------------------------------------------------------|\n",
    "| 8. März 2024   | 12:30 | 14:45 | 3   | 3    | EINFÜHRUNG CODE BASICS                    | Einführung 1h — Pause 15 min Pyhton + Flussdiagramme Theorie 1h                                                                                                                      |\n",
    "| 15. März 2024  | 12:30 | 14:45 | 3   | 3    | EINFÜHRUNG CODE BASICS                    | Flussdiagramm Übung 30min Pseudocode Theorie + Übung 30 min + Abgabe Übung 1 — Pause 15 minuten VSCode Setup + Conda 1h                                                              |\n",
    "| 22. März 2024  | 12:30 | 14:45 | 3   | 3    | EINFÜHRUNG CODE BASICS                    | Python Basics I VO Teil bis Conditions 2.30h inkl 15 min. Pause How to google for errors How to use ChatGPT                                                                          |\n",
    "| 12. April2024  | 12:30 | 14:45 | 3   | 3    | EINFÜHRUNG CODE BASICS                    | Python Basics I+II VO Teil -> combine Conditions + Loops 1.15h 15 min break Loop Exercise 30 min Paths, Data In/Ouput, Datetime HEX 1 - random choice                                |\n",
    "| 19. April2024  | 12:30 | 14:45 | 3   | 3    | EINFÜHRUNG CODE BASICS                    | Functions, Scope, Exceptions 1h  15 min break Python Modules: Pandas, Plotly + examples  1h Exercise for functions + modules Zinseszins + Python Module   HEX 2 - Fun with CSV Files |\n",
    "| 26. April 2024 | 12:30 | 14:45 | 3   | 3    | PRÜFUNG,VERTIEFUNG GEO, AUSGABE ENDARBEIT | Prüfung 45 Minuten 15 Min Pause                                                                                                                                                      |\n",
    "| 3. Mai 2024    | 12:30 | 14:45 | 3   | 3    | VERTIEFUNG GEO                            |                                                                                                                                                                                      |\n",
    "| 17. Mai 2024   | 12:30 | 14:45 | 3   | 3    | VERTIEFUNG GEO                            |                                                                                                                                                                                      |\n",
    "| 22. Mai 2024   |       |       |     |      | ABGABE ENDARBEIT                          |                                                                                                                                                                                      |\n",
    "| 24. Mai 2024   | 12:30 | 16:15 | 4   | 4    | ABSCHLUSS                                 |                                                                                                                                                                                      |\n",
    "| 7. Juni 2024   |       |       |     |      | PUFFER                                    |                                                                                                                                                                                      |"
   ]
  },
  {
   "cell_type": "markdown",
   "metadata": {},
   "source": [
    "## Anwesenheit\n",
    "\n",
    "* `Mindestens 80%`\n",
    "\n",
    "    * Insgesamt 28 Einzeleinheiten\n",
    "\n",
    "    * 28 * 0.8 = 22 Einheiten\n",
    "\n",
    "    * 6 Einzeleinheiten können versäumt werden\n",
    "\n",
    "    * 1 Block = 3 Einzeleinheiten\n",
    "    \n",
    "    * Ausnahme in begründeten Fällen\n",
    "\n",
    "* Stand: https://mitteilungsblatt.uni-graz.at/de/2023-24/8.a/pdf/"
   ]
  },
  {
   "cell_type": "markdown",
   "metadata": {},
   "source": [
    "## Prüfungsmodalität I\n",
    "\n",
    "| Was | Max. Punkte | Mindestanforderung |\n",
    "|----------|----------|----------|\n",
    "| 4 Übungsprogramme    | 40(4*10)   | >=20   |\n",
    "| Vorlesungs-Prüfung    | 20   | >=10   |\n",
    "| Abschlussarbeit      | 30   | >=15   |\n",
    "\n",
    "`Alle Teilbeurteilungen müssen positiv absolviert werden!\n",
    "Übungsprogramme müssen selbstständig gelöst werden. Bei offensichtlichen Plagiat \n",
    "werden die Übungsprogramme aller Beteiligten mit 0 Punkten bewertet.`\n",
    "\n",
    "|Gesamt Punkte|Note|\n",
    "|-------------|----|\n",
    "|0-45         |5   |\n",
    "|46-57        |4   |\n",
    "|58-69        |3   |\n",
    "|70-81        |2   |\n",
    "|82-90        |1   |"
   ]
  },
  {
   "cell_type": "markdown",
   "metadata": {},
   "source": [
    "## Prüfungsmodalität II\n",
    "\n",
    "Immanenter Prüfungscharakter!\n",
    "\n",
    "Übungsprogramm muss bis 24h vor Beginn der nächsten Doppeleinheit im \n",
    "Moodle hochgeladen werden. \n",
    "\n",
    "Abgabeformat: Übungsnummer_Matrikelnummer_Nachname_EGM24.ipynb\n",
    "(Beispiel für erste Übung: 01_01113435_Wecht_EGM24.ipynb)\n",
    "\n",
    "In der Einheit am 26.04.2024 findet die Prüfung zu den Python Basics statt und das Abschlussprogramm wird ausgegeben.\n",
    "\n",
    "\n"
   ]
  },
  {
   "cell_type": "markdown",
   "metadata": {},
   "source": [
    "## Moodle Handling\n",
    "\n",
    "* https://moodle.uni-graz.at/login/index.php"
   ]
  },
  {
   "cell_type": "markdown",
   "metadata": {},
   "source": [
    "## Python\n",
    "\n",
    "### Was ist Python?\n",
    "\n",
    "* Python ist eine  leicht zu lesende,  höhere Programmiersprache.\n",
    "\n",
    "    * „Höher“ bezieht sich in diesem Zusammenhang auf die Abstraktionsebene der Programmiersprache. (Komplexität verbergen und die Manipulation vereinfachen)\n",
    "    \n",
    "    * Der Source Code ist teil-interpretiert und daher Plattform unabhängig. \n",
    "\n",
    "\n",
    "![image](\\graphic\\python_1.JPG)\n",
    "\n",
    "source: https://www.data-science-architect.de/python-compiliert-interpretiert/"
   ]
  },
  {
   "cell_type": "code",
   "execution_count": 4,
   "metadata": {},
   "outputs": [
    {
     "name": "stdout",
     "output_type": "stream",
     "text": [
      "8\n"
     ]
    }
   ],
   "source": [
    "import random\n",
    "\n",
    "def generate_random_number():\n",
    "    rand_int = random.randint(1,10)\n",
    "    return rand_int\n",
    "\n",
    "# Example usage:\n",
    "random_int = generate_random_number()\n",
    "print(random_int)\n"
   ]
  },
  {
   "cell_type": "markdown",
   "metadata": {},
   "source": [
    "## Python\n",
    "Programmiersprachen\n",
    "\n",
    "* Formalisierte Sprache...\n",
    "    * deren Sätze aus einer Aneinanderreihung von Zeichen eines festgelegten \n",
    "Zeichenvorrates entstehen. Fachvokabular (`Lexik`)\n",
    "\n",
    "    * deren Sätze aufgrund einer endlichen Menge von Regeln gebildet werden \n",
    "können. Richtige Aneinanderreihung (`Syntax`)\n",
    "\n",
    "    * welche die Bedeutung jedes Satzes festlegt bzw. ob ein Satz oder eine \n",
    "Programmstruktur überhaupt Sinn ergibt. (`Semantik`)\n",
    "\n",
    "* Ein Programm ist ein Algorithmus, formuliert in einer Programmiersprache\n",
    "\n",
    "### Warum Python?\n",
    "\n",
    "* Open Source.\n",
    "\n",
    "* Umfangreiche Standardbibliothek.\n",
    "\n",
    "* Optimiert auf Erlernbarkeit, Lesbarkeit & Wartbarkeit.\n",
    "\n",
    "* Syntax ist klar, leicht zu lesen & zu lernen (fast Pseudocode).\n",
    "\n",
    "* Kurzer Code.\n",
    "\n",
    "* Einfache Paketinstallation.\n",
    "\n",
    "* Große Community.\n",
    "\n",
    "* Plattformunabhängig.\n",
    "\n",
    "* Sehr Gut geeignet für Data Science.\n",
    "\n",
    "* Schnelle Programmentwicklung.\n",
    "\n",
    "### Zusammenfassung:\n",
    "\n",
    "* Jede Programmiersprache ist äußerst exakt.\n",
    "\n",
    "* Deshalb musst du beim Programmieren darauf achten, dass deine \n",
    "Programmbausteine lexikalisch, syntaktisch und auch semantisch – einwandfrei \n",
    "sind.\n",
    "\n",
    "* Die Lexik prüft als Erstes, ob die Wörter in dieser Programmiersprache bekannt \n",
    "sind.\n",
    "\n",
    "* Die Syntax überprüft  den ordnungsgemäßen Aufbau einer Anweisung.\n",
    "\n",
    "* Und schließlich muss die Anweisung auch einen Sinn für das Programm \n",
    "ergeben.\n",
    "\n",
    "source: https://mein-javablog.de/lexikalik-syntax-und-semantik-in-programmiersprachen/\n",
    "\n"
   ]
  },
  {
   "cell_type": "markdown",
   "metadata": {},
   "source": [
    "# Pause\n",
    "\n",
    "![image](\\graphic\\pause.JPG)"
   ]
  },
  {
   "cell_type": "markdown",
   "metadata": {},
   "source": [
    "## Von der Idee zum Programm\n",
    "\n",
    "* Computer wurden erschaffen, um Menschen beim Rechnen zu helfen.\n",
    "\n",
    "* Aber:  Computer »denken« nicht mit, sondern ar beiten streng nach Vorschrift!\n",
    "\n",
    "* Vor- bzw. Nachteile eines Computers?\n",
    "\n",
    "* Was kann ein Computer, das ein Mensch nicht kann?\n",
    "\n",
    "* Was kann ein Mensch, das ein Computer nicht kann?\n",
    "\n",
    "* Computer erhalten durch Programme mitgeteilt, welche Aufgaben sie ausführen sollen.\n",
    "\n",
    "\n",
    "![image](\\graphic\\idee.JPG)"
   ]
  },
  {
   "cell_type": "markdown",
   "metadata": {},
   "source": [
    "## Programmdesign\n",
    "\n",
    "### Je klarer ein Problem formuliert ist, desto einfacher ist es zu lösen.\n",
    "\n",
    "* Aufgabenstellung durchdenken:\n",
    "\n",
    "    * Welche Aufgaben soll mein Programm lösen?\n",
    "\n",
    "    * Welche Ansätze kenne Ich um diese Anforderungen zu erfüllen?\n",
    "\n",
    "* Algorithmus entwickeln:\n",
    "\n",
    "    * In welche Unteraufgaben kann Ich das Programm unterteilen?\n",
    "\n",
    "    * Wie folgen diese Aufgaben aufeinander?\n",
    "\n",
    "    * Welche Bausteine kann Ich wieder verwenden?\n",
    "\n",
    "* Algorithmus  überprüfen:\n",
    "\n",
    "    * Werden tatsächlich alle Aufgaben erfüllt?\n",
    "    \n",
    "* `Top-Down Methode`\n",
    "\n",
    "    * Vom großen ganzen hin zu den Details."
   ]
  },
  {
   "cell_type": "markdown",
   "metadata": {},
   "source": [
    "## Flußdiagramme und Pseudocode...\n",
    "\n",
    "* erlauben es, den Programmablauf festzulegen und zu analysieren, ohne \n",
    "das Programm tatsächlich programmieren zu müssen.\n",
    "\n",
    "* helfen bei der Erfassung der Programmstruktur.\n",
    "\n",
    "* erlauben die Identifikation von Komplexen Aufgabenteilen.\n",
    "\n",
    "\n",
    "Flußdiagramme und Pseudocode sind Planungsmittel, die das Designen von\n",
    "Programmen erleichtern. Sie dienen gleichzeitig als Teil der Dokumentation des\n",
    "Programms.\n",
    "\n",
    "\n",
    "![image](\\graphic\\flussdiagramm_1.JPG)\n",
    "\n",
    "\n",
    "source: https://blog.hubspot.de/hs-fs/hubfs/Germany/Blog_images/flussdiagramm-beispiel.png?width=527&name=flussdiagramm-beispiel.png"
   ]
  },
  {
   "cell_type": "markdown",
   "metadata": {},
   "source": [
    "## Flussdiagramm Beispiel I (30 min)\n",
    "\n",
    "Erstelle ein Flussdiagramm, welches die unten angeführten Schritte zur Zubereitung eines Spiegeleis abbildet\n",
    "\n",
    "[DRAWIO](https://app.diagrams.net/)\n",
    "\n",
    "\n",
    "\n",
    "**Schritt-für-Schritt-Anleitung:**  (ChatGPT 3.5, 06.03.2024)\n",
    "\n",
    "1. **Vorbereitung:**\n",
    "   - Stelle sicher, dass deine Pfanne sauber ist.\n",
    "   - Wähle die Größe der Pfanne entsprechend der Anzahl der Spiegeleier, die du zubereiten möchtest.\n",
    "\n",
    "2. **Erhitzen der Pfanne:**\n",
    "   - Gib eine kleine Menge Butter oder Öl in die Pfanne.\n",
    "   - Erhitze die Pfanne auf mittlerer Hitze. Lass die Butter schmelzen oder das Öl gleichmäßig verteilen.\n",
    "\n",
    "3. **Ei aufschlagen:**\n",
    "   - Schlage ein Ei in eine kleine Schüssel. Dies ermöglicht es, das Ei leichter in die Pfanne gleiten zu lassen und schützt vor Schalenelementen im Gericht.\n",
    "\n",
    "4. **Ei in die Pfanne gleiten lassen:**\n",
    "   - Lasse das aufgeschlagene Ei vorsichtig in die Pfanne gleiten, damit das Eigelb nicht bricht.\n",
    "\n",
    "5. **Würzen (optional):**\n",
    "   - Streue eine Prise Salz und Pfeffer nach Geschmack über das Ei. Du kannst auch andere Gewürze hinzufügen, wenn du möchtest.\n",
    "\n",
    "6. **Garen des Eigelbs:**\n",
    "   - Lasse das Ei kochen, bis das Eiweiß vollständig gestockt ist, aber das Eigelb noch weich ist. Du kannst die Pfanne abdecken, um sicherzustellen, dass das Eigelb gleichmäßig gegart wird.\n",
    "\n",
    "7. **Pfanne entfernen:**\n",
    "   - Mit einem Pfannenwender hebe das Spiegelei vorsichtig aus der Pfanne und platziere es auf einem Teller.\n",
    "\n",
    "8. **Servieren:**\n",
    "   - Serviere das Spiegelei heiß. Du kannst es alleine genießen oder mit Toast, Brot oder anderen Beilagen kombinieren.\n",
    "\n",
    "Das ist es! Mit diesen einfachen Schritten kannst du ein leckeres Spiegelei zubereiten. Beachte, dass die Garzeit je nach gewünschter Konsistenz des Eigelbs variieren kann. Experimentiere und finde heraus, wie du dein Spiegelei am liebsten magst."
   ]
  },
  {
   "cell_type": "markdown",
   "metadata": {},
   "source": [
    "## Pseudocode\n",
    "\n",
    "* Pseudocode is an informal high-level description of the operating principle of \n",
    "a computer program or other algorithm (Wikipedia).\n",
    "\n",
    "* Pseudocode soll durch einfache Beschreibung die Algorithmen für den \n",
    "Menschen verständlich machen.\n",
    "\n",
    "* Beschränkt sich auf das wesentliche und unterschlägt Details, die nicht \n",
    "unbedingt zum Verständnis eines Algorithmus notwendig sind (z. B. \n",
    "Variablendeklarationen).\n",
    "\n",
    "* Pseudocode bewegt sich auf einem Spektrum zwischen ”Algorithmischer“ \n",
    "und „natürlicher“ Sprache\n",
    "\n",
    "* Die Struktur von Pseudocode ist nicht klar definiert. Es gibt keine ”eine \n",
    "richtige“ Art des Pseudocode, aber es gibt ”falschen“ Pseudocode.\n",
    "\n",
    "[Pseudocode Video](https://de.khanacademy.org/computing/computer-programming/programming/good-practices/pt/planning-with-pseudo-code)\n",
    "\n",
    "\n",
    "\n",
    "## Pseudocode Beispiel\n",
    "```python\n",
    "1 Erstelle eine neue Uebungsangabe.\n",
    "2 Nimm Gruppeneinteilung an.\n",
    "3 Gib die Angabe aus.\n",
    "4 WIEDERHOLE BIS zum Abgabetermin:\n",
    "5   WENN die erste Woche noch nicht vorbei ist:\n",
    "6       Nimm Termine fuer Abgabegespraeche an.\n",
    "7   WENN ein Student Fragen hat:\n",
    "8       Beantworte die Frage.\n",
    "9 Lade Abgaben aus dem Locker herunter.\n",
    "10 FUER jede Abgabe:\n",
    "11  Lies Bericht.\n",
    "12  Korrigiere Quellcode.\n",
    "13  Gebe Note.\n",
    "14 FUER jede Gruppe:\n",
    "15  Fuehre Abgabegespraech.\n",
    "\n",
    "```\n",
    "\n",
    "\n",
    "## Pseudocode Beispiel I (30 min)\n",
    "\n",
    "**Aufgabe 1:** Sie sollen ein Programm erstellen, das die Summe von zwei Zahlen berechnet und das Ergebnis ausgibt.\n",
    "\n",
    "**Aufgabe 2:** Schreiben Sie ein Programm, das eine Zahlenreihe von 1 bis zu einer vom Benutzer eingegebenen Zahl generiert und die Summe dieser Zahlen ausgibt.\n"
   ]
  }
 ],
 "metadata": {
  "kernelspec": {
   "display_name": "eni",
   "language": "python",
   "name": "eni"
  },
  "language_info": {
   "codemirror_mode": {
    "name": "ipython",
    "version": 3
   },
   "file_extension": ".py",
   "mimetype": "text/x-python",
   "name": "python",
   "nbconvert_exporter": "python",
   "pygments_lexer": "ipython3",
   "version": "3.9.2"
  }
 },
 "nbformat": 4,
 "nbformat_minor": 2
}
