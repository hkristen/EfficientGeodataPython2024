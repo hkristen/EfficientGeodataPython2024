{
 "cells": [
  {
   "cell_type": "markdown",
   "metadata": {},
   "source": [
    "# Home Exercise - Megacities of South America\n",
    "For this home exercise you are allowed to use the two datasets from todays lesson *cities.geojson* and *countries.gpkg*. \n",
    "- Select all the megacities with a pop_max of 1.000.000 inhabitants and save the result in a new dataframe (2)\n",
    "- From the above select only the ones that are in South America and save the result in a new dataframe (2)\n",
    "- Make a basic plot showing the countries and the megacities of South America in one map. (2)\n",
    "- Make a 50km buffer around the megacities of South America. Plot only the outline of the buffers and the countries of South America in an interactive plot.(3)\n",
    "- Save the plot as HTML file. (1)\n",
    "\n",
    "\n",
    "Upload a ZIP file to Moodle which that contains\n",
    "- Ipython Notebook with the solutions\n",
    "- The HTML file containing the interactive map (if you could do the last point)\n",
    "\n",
    "**Hint**   \n",
    "- Don't forget to use meaningful variable names!\n",
    "- If you are stuck, check out the amazing [Geopandas Documentation](https://geopandas.org/en/stable/docs.html) "
   ]
  }
 ],
 "metadata": {
  "language_info": {
   "name": "python"
  }
 },
 "nbformat": 4,
 "nbformat_minor": 2
}
