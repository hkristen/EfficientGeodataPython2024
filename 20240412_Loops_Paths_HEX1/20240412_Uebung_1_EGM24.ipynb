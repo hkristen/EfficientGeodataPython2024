{
  "cells": [
    {
      "cell_type": "markdown",
      "metadata": {},
      "source": [
        "# Exercise 01  \n",
        "## *Random Choice*\n",
        "\n",
        "Using the learned data types and associated operations, an algorithm should be created to randomly select an element from a given list of elements.\n",
        "\n",
        "1. Read a text file and store its contents in a variable. (prepared)\n",
        "2. Output each line in a **for loop**. (1 point)\n",
        "3. Using the **str.split()** function, output only the last name of all students by choosing the correct delimiter. (3 points)\n",
        "4. The last names of the students should be stored in a list. (2 points)\n",
        "5. Using the provided **random.randint()** function, output any integer between 0 and the number of elements in the student list Dynamically adjust the number of elements in the student list based on attendance. (2 points)\n",
        "6. Implement steps 1 - 5 in a function **def random_choice(path_to_csv)** (2 points)"
      ]
    },
    {
      "cell_type": "code",
      "execution_count": 1,
      "metadata": {
        "id": "tJNWsdgg7dvH"
      },
      "outputs": [],
      "source": [
        "file_txt = open('Teilnehmerliste.csv')\n",
        "lines = file_txt.readlines()"
      ]
    },
    {
      "cell_type": "code",
      "execution_count": 32,
      "metadata": {
        "id": "Lc8_HjTm_q8V"
      },
      "outputs": [],
      "source": [
        "import random\n",
        "x = random.randint??"
      ]
    }
  ],
  "metadata": {
    "colab": {
      "collapsed_sections": [],
      "name": "01_01113435_admin_EGM22.ipynb",
      "provenance": []
    },
    "kernelspec": {
      "display_name": "eni",
      "language": "python",
      "name": "eni"
    },
    "language_info": {
      "codemirror_mode": {
        "name": "ipython",
        "version": 3
      },
      "file_extension": ".py",
      "mimetype": "text/x-python",
      "name": "python",
      "nbconvert_exporter": "python",
      "pygments_lexer": "ipython3",
      "version": "3.9.2"
    }
  },
  "nbformat": 4,
  "nbformat_minor": 0
}
